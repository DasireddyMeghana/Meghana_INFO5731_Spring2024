{
  "cells": [
    {
      "cell_type": "markdown",
      "metadata": {
        "id": "view-in-github",
        "colab_type": "text"
      },
      "source": [
        "<a href=\"https://colab.research.google.com/github/DasireddyMeghana/Meghana_INFO5731_Spring2024/blob/main/Assignments/Dasireddy_Meghana_Assignment_1_Spring_2024.ipynb\" target=\"_parent\"><img src=\"https://colab.research.google.com/assets/colab-badge.svg\" alt=\"Open In Colab\"/></a>"
      ]
    },
    {
      "cell_type": "code",
      "source": [
        "from google.colab import drive\n",
        "drive.mount('/content/drive')"
      ],
      "metadata": {
        "colab": {
          "base_uri": "https://localhost:8080/"
        },
        "id": "DKWsnVLiE-dG",
        "outputId": "05309a5e-9238-4fa9-f171-ee018aeb8b2a"
      },
      "execution_count": 1,
      "outputs": [
        {
          "output_type": "stream",
          "name": "stdout",
          "text": [
            "Mounted at /content/drive\n"
          ]
        }
      ]
    },
    {
      "cell_type": "markdown",
      "metadata": {
        "id": "Ryk8D1Q4Wsrp"
      },
      "source": [
        "# **INFO5731 Assignment One**"
      ]
    },
    {
      "cell_type": "markdown",
      "metadata": {
        "id": "qcP6re2g5A5r"
      },
      "source": [
        "This assignment includes range of programming tasks and data analysis exercises, aiming to enhance your Python skills and proficiency in string manipulation, numerical computations, and data science. Follow the instructions carefully and design well-structured Python programs to address each question.\n",
        "\n",
        "Late Submission will have a penalty of 10% reduction for each day after the deadline."
      ]
    },
    {
      "cell_type": "markdown",
      "metadata": {
        "id": "JkzR8cFAyGik"
      },
      "source": [
        "# Question 1 (10 points).\n",
        "\n",
        "The formula that describes the volume V of a hemisphere with radius r is the following:\n",
        "\n",
        "$ V=\\frac{2}{3}\\ast\\ \\pi\\ast\\ r^3 $\n",
        "\n",
        "Write a program to calculate the value of V when r is in the range of even numbers from 1-20. Output the result in the following format:\n",
        "\n",
        "\tr\tV\n",
        "\t2\t…\n",
        "\t4\t…\n",
        "\t6\t…\n",
        "\t.\n",
        "\t.\n",
        "\t.\n",
        "\t20\t…\n"
      ]
    },
    {
      "cell_type": "code",
      "execution_count": null,
      "metadata": {
        "id": "jDyTKYs-yGit",
        "outputId": "28d20072-982f-41a3-e9a7-2da060fe121c"
      },
      "outputs": [
        {
          "name": "stdout",
          "output_type": "stream",
          "text": [
            "r\tV\n",
            "2\t16.76\n",
            "4\t134.04\n",
            "6\t452.39\n",
            "8\t1072.33\n",
            "10\t2094.39\n",
            "12\t3619.11\n",
            "14\t5747.02\n",
            "16\t8578.64\n",
            "18\t12214.50\n",
            "20\t16755.15\n"
          ]
        }
      ],
      "source": [
        "# Your code here\n",
        "def volume_hemisphere(r):\n",
        "    return (2/3) * 3.14159 * r**3\n",
        "\n",
        "results = []\n",
        "\n",
        "for r in range(2, 21, 2):\n",
        "    volume = volume_hemisphere(r)\n",
        "    results.append((r, volume))\n",
        "\n",
        "output = \"r\\tV\\n\" + \"\\n\".join([f\"{r}\\t{v:.2f}\" for r, v in results])\n",
        "\n",
        "print(output)\n",
        "\n"
      ]
    },
    {
      "cell_type": "markdown",
      "metadata": {
        "id": "90_NR8c5XGWc"
      },
      "source": [
        "# Question 2 (20 points)\n",
        "\n",
        "(a) Write a Python program to generate a sequence of 12 random numbers falling within the range of 50 to 150.\n",
        "\n",
        "(b) Arrange the generated numbers in ascending order. Display the sorted list.\n",
        "\n",
        "(c) Extend the program to arrange the numbers in descending order as well. Present the sorted list accordingly.\n",
        "\n",
        "(d) Compute and output the average of the entire group of generated numbers.\n",
        "\n",
        "(e) Enhance the program to calculate and display the average of the first 6 numbers from both the ascending and descending sorted lists."
      ]
    },
    {
      "cell_type": "code",
      "execution_count": null,
      "metadata": {
        "id": "5QX6bJjGWXY9",
        "outputId": "97748965-9bab-4ea7-8a27-44bae74c2c7b"
      },
      "outputs": [
        {
          "name": "stdout",
          "output_type": "stream",
          "text": [
            "\n",
            "Random Numbers\n",
            "[89, 133, 64, 61, 138, 101, 75, 66, 79, 112, 144, 101]\n",
            "\n",
            "Ascending order\n",
            "[61, 64, 66, 75, 79, 89, 101, 101, 112, 133, 138, 144]\n",
            "\n",
            "Descending order\n",
            "[144, 138, 133, 112, 101, 101, 89, 79, 75, 66, 64, 61]\n",
            "\n",
            "Average Total\n",
            "96.91666666666667\n",
            "\n",
            "average_first_6_ascending: 72.33333333333333\n",
            "\n",
            "average_first_6_descending: 121.5\n"
          ]
        }
      ],
      "source": [
        "# Write code for each of the sub parts with proper comments.\n",
        "\n",
        "import random\n",
        "\n",
        "# (a) Generate a sequence of 12 random numbers between 50 and 150\n",
        "random_numbers = [random.randint(50, 150) for _ in range(12)]\n",
        "\n",
        "print(\"\\nRandom Numbers\")\n",
        "print(random_numbers)\n",
        "\n",
        "# (b) Arrange the numbers in ascending order\n",
        "ascending_order = sorted(random_numbers)\n",
        "print(\"\\nAscending order\")\n",
        "print(ascending_order)\n",
        "\n",
        "# (c) Arrange the numbers in descending order\n",
        "descending_order = sorted(random_numbers, reverse=True)\n",
        "print(\"\\nDescending order\")\n",
        "print(descending_order)\n",
        "\n",
        "# (d) Compute the average of the entire group\n",
        "average_total = sum(random_numbers) / len(random_numbers)\n",
        "print(\"\\nAverage Total\")\n",
        "print(average_total)\n",
        "\n",
        "# (e) Calculate the average of the first 6 numbers in both sorted lists\n",
        "average_first_6_ascending = sum(ascending_order[:6]) / 6\n",
        "average_first_6_descending = sum(descending_order[:6]) / 6\n",
        "print(\"\\naverage_first_6_ascending:\", average_first_6_ascending)\n",
        "print(\"\\naverage_first_6_descending:\", average_first_6_descending)\n"
      ]
    },
    {
      "cell_type": "markdown",
      "metadata": {
        "id": "1F_PZdH9Sh49"
      },
      "source": [
        "# Question 3 (20 points).\n",
        "\n",
        "Create a Python program that encompasses various string manipulation task:\n",
        "\n",
        "(a) Prompt the user to input two sentences.\n",
        "\n",
        "(b) Transform each sentence into a list, where each element corresponds to a word in the sentence. For example, if the sentences are \"Hello, how are you doing today?\" and \"This is an example sentence for the program!\"\n",
        "\n",
        "The program should output:\n",
        "['Hello', ',', 'how', 'are', 'you', 'doing', 'today', '?', 'This', 'is', 'an', 'example', 'sentence', 'for', 'the', 'program', '!']\n",
        "\n",
        "(c) Compare the two sentences. Print out a list of words that occur in both sentences.\n",
        "\n",
        "(d) Remove any punctuation from the sentence and print the sanitized sentences. It should remove at least the following characters, but it can remove more: period(“.”), comma (“,”), semicolon (“;”), and colon (“:”).\n",
        "\n",
        "(e) Count the number of vowels in each of the sentences. Print out each vowel and the occurrences  in the each of the two sentences separately, such as:\n",
        "\n",
        "Sentence1: a:2, e:2, i:0, etc.\n",
        "Sentence2: a:1, e:2, i:2, etc.\n",
        "\n",
        "Design a well-structured Python program to execute these tasks efficiently."
      ]
    },
    {
      "cell_type": "code",
      "execution_count": null,
      "metadata": {
        "id": "Y0oOSlsOS0cq",
        "outputId": "84e5cbd1-fc5b-46f2-99ac-8e79db87b024"
      },
      "outputs": [
        {
          "name": "stdout",
          "output_type": "stream",
          "text": [
            "Sentence1: Hello, how are you?\n",
            "Sentence2: hello. I am fine.\n",
            "List for sentence1: ['hello', ',', 'how', 'are', 'you', '?']\n",
            "List for sentence2: ['hello', '.', 'i', 'am', 'fine', '.']\n",
            "\n",
            "Common words:\n",
            "['hello']\n",
            "Sentences after removing sentences:\n",
            "Hello how are you\n",
            "hello I am fine\n",
            "vowels in each of the sentences:\n",
            "sentence1: {'a': 1, 'e': 2, 'i': 0, 'o': 3, 'u': 1}\n",
            "sentence2: {'a': 1, 'e': 2, 'i': 2, 'o': 1, 'u': 0}\n"
          ]
        }
      ],
      "source": [
        "# Your code here\n",
        "\n",
        "import string\n",
        "\n",
        "def sentence_to_list(sentence):\n",
        "    words_and_punctuation = []\n",
        "    word = \"\"\n",
        "    for char in sentence:\n",
        "        if char.isalpha() or char.isdigit():\n",
        "            word += char\n",
        "        else:\n",
        "            if word:\n",
        "                words_and_punctuation.append(word.lower())\n",
        "                word = \"\"\n",
        "            if char.strip():\n",
        "                words_and_punctuation.append(char.lower())\n",
        "    if word:\n",
        "        words_and_punctuation.append(word.lower())\n",
        "    return words_and_punctuation\n",
        "\n",
        "def find_common_words(list1, list2):\n",
        "    return list(set(list1) & set(list2))\n",
        "\n",
        "def remove_punctuation(sentence):\n",
        "    return sentence.translate(str.maketrans('', '', string.punctuation))\n",
        "\n",
        "def count_vowels(sentence):\n",
        "    vowels = \"aeiou\"\n",
        "    count = {vowel: 0 for vowel in vowels}\n",
        "    for char in sentence.lower():\n",
        "        if char in vowels:\n",
        "            count[char] += 1\n",
        "    return count\n",
        "\n",
        "sentence1 = input(\"Sentence1: \")\n",
        "sentence2 = input(\"Sentence2: \")\n",
        "\n",
        "# (b) Transform each sentence into a list\n",
        "list1 = sentence_to_list(sentence1)\n",
        "list2 = sentence_to_list(sentence2)\n",
        "print(\"List for sentence1:\", list1)\n",
        "print(\"List for sentence2:\", list2)\n",
        "\n",
        "\n",
        "# (c) Compare the two sentences\n",
        "common_words = find_common_words(list1, list2)\n",
        "print(\"\\nCommon words:\")\n",
        "print(common_words)\n",
        "\n",
        "# (d) Remove punctuation and print sanitized sentences\n",
        "sanitized_sentence1 = remove_punctuation(sentence1)\n",
        "sanitized_sentence2 = remove_punctuation(sentence2)\n",
        "print(\"Sentences after removing sentences:\")\n",
        "print(sanitized_sentence1)\n",
        "print(sanitized_sentence2)\n",
        "\n",
        "# (e) Count the number of vowels in each of the sentences\n",
        "vowels_count1 = count_vowels(sanitized_sentence1)\n",
        "vowels_count2 = count_vowels(sanitized_sentence2)\n",
        "print(\"vowels in each of the sentences:\")\n",
        "print(\"sentence1:\",vowels_count1)\n",
        "print(\"sentence2:\",vowels_count2)\n"
      ]
    },
    {
      "cell_type": "markdown",
      "metadata": {
        "id": "OP4-5qxAtInv"
      },
      "source": [
        "# Question 4 (20 Points)"
      ]
    },
    {
      "cell_type": "markdown",
      "metadata": {
        "id": "uzN4_hDptK9U"
      },
      "source": [
        "Design and implement a simple command-line calculator program. The program should handle both integers and floating-point numbers.\n",
        "\n",
        "(a) Write program that takes a mathematical expression as input and evaluates it. The program should support addition, subtraction, multiplication, and division.\n",
        "\n",
        "(b) Extend the calculator to handle parentheses in mathematical expressions. Implement the necessary logic to evaluate expressions with nested parentheses.\n",
        "\n",
        "(c) Enhance your calculator to include additional mathematical operations such as exponentiation, square root, and modulus.\n",
        "\n",
        "(d) Implement error handling in the calculator program. Handle cases such as division by zero and invalid input expressions. Provide meaningful error messages.\n",
        "\n",
        "(e) Implement a command to exit the calculator."
      ]
    },
    {
      "cell_type": "code",
      "execution_count": null,
      "metadata": {
        "id": "8nQnVxjJuYtu",
        "outputId": "7d363c5a-1aaf-4bb2-bf19-9487f32ba950"
      },
      "outputs": [
        {
          "name": "stdout",
          "output_type": "stream",
          "text": [
            "3 + 2 = 5\n",
            "(2 + 3) * 5 = 25\n",
            "2 ^ 6 = 64\n",
            "sqrt(16) = 4.0\n",
            "10 mod 3 = 1\n",
            "1 / 0 = Error: Division by zero is not allowed.\n",
            "exit = Exiting calculator.\n"
          ]
        }
      ],
      "source": [
        "# Your code here\n",
        "import math\n",
        "\n",
        "def calculate(expression):\n",
        "    try:\n",
        "        def advanced_eval(expr):\n",
        "            expr = expr.replace('^', '**').replace('sqrt', 'math.sqrt').replace('mod', '%')\n",
        "            return eval(expr, {'__builtins__': None}, {'math': math})\n",
        "\n",
        "        # Check for exit command\n",
        "        if expression.strip().lower() == 'exit':\n",
        "            return \"Exiting calculator.\"\n",
        "\n",
        "        result = advanced_eval(expression)\n",
        "        return result\n",
        "    except ZeroDivisionError:\n",
        "        return \"Error: Division by zero is not allowed.\"\n",
        "    except Exception as e:\n",
        "        return f\"Error: Invalid input expression. {str(e)}\"\n",
        "\n",
        "expressions = [\n",
        "    \"3 + 2\",\n",
        "    \"(2 + 3) * 5\",\n",
        "    \"2 ^ 6\",\n",
        "    \"sqrt(16)\",\n",
        "    \"10 mod 3\",\n",
        "    \"1 / 0\",\n",
        "    \"exit\"\n",
        "]\n",
        "\n",
        "results = [calculate(expr) for expr in expressions]\n",
        "\n",
        "for i in range(len(expressions)):\n",
        "    print(expressions[i],\"=\", results[i])\n"
      ]
    },
    {
      "cell_type": "markdown",
      "metadata": {
        "id": "z3tBE7E-Xn5X"
      },
      "source": [
        "# Question 5 (30 points).\n",
        "\n",
        "In the field of Data Science, data is often formatted as a comma-delimited (CSV) file, where each line in a file corresponds to a field's value. Refer to Chapter 9 (p. 106) for more information on comma-delimited files.\n",
        "\n",
        "To answer this question, you will need to download the file [Assignment1_denton_housing.csv](https://raw.githubusercontent.com/unt-iialab/info5731-spring2022/main/assignments/Assignment1_denton_housing.csv) included with this assignment. The file contains statistics about housing in the city of Denton from 2008 to 2014. Write a program to implement the following questions.\n",
        "\n",
        "(a) (5 pts) Calculate the difference in the number of Occupied Housing Units from year to year and print it. The difference must be calculated for the consecutive years such as 2008-2009, 2009-2010 etc. Finally, print the values in the ascending order.\n",
        "\n",
        "(b) (5 pts) For all the years, calculate the percentage of housing units which are vacant an occupied. Print the results in the following format:\n",
        "\n",
        "Year Vacant Housing Units Occupied Housing Units\n",
        "\n",
        "    2008  30%   70%                          \n",
        "\t2009 ----- -----\n",
        "\t2010 ----- -----\n",
        "    2011 ----- -----\n",
        "\t2012 ----- -----\n",
        "    2013 ----- -----\n",
        "\t2014 ----- -----\n",
        "  \n",
        "  \n",
        "\n",
        "(c) (10 pts) Calculate and print the valued and years in which the highest number of housing units were vacant and occupied. Print the results in the following format:  \n",
        "\n",
        "                              Year\tValue\n",
        "\tVacant Housing Units\t  -----   -----\n",
        "\tOccupied Housing Units\t-----   -----\n",
        "\n",
        "(d) (10 pts) Calculate the harmonic mean of the total housing units and print it out. You can find the information about harmonic mean here: https://ncalculators.com/statistics/harmonic-mean-calculator.htm"
      ]
    },
    {
      "cell_type": "code",
      "execution_count": 2,
      "metadata": {
        "id": "lqGYuHBhcsRH",
        "colab": {
          "base_uri": "https://localhost:8080/"
        },
        "outputId": "fca04e95-5c46-4594-e7a5-78ff2671c809"
      },
      "outputs": [
        {
          "output_type": "stream",
          "name": "stdout",
          "text": [
            "Year-to-Year Difference in Occupied Housing Units (Sorted):\n",
            "2010-2011: 303.0\n",
            "2008-2009: 795.0\n",
            "2011-2012: 1404.0\n",
            "2012-2013: 1565.0\n",
            "2013-2014: 2622.0\n",
            "2009-2010: 5091.0\n",
            "\n",
            "Percentage of Vacant and Occupied Housing Units:\n",
            "2008: Vacant: 10.88%, Occupied: 89.12%\n",
            "2009: Vacant: 9.07%, Occupied: 90.93%\n",
            "2010: Vacant: 8.14%, Occupied: 91.86%\n",
            "2011: Vacant: 9.38%, Occupied: 90.62%\n",
            "2012: Vacant: 6.68%, Occupied: 93.32%\n",
            "2013: Vacant: 8.80%, Occupied: 91.20%\n",
            "2014: Vacant: 5.73%, Occupied: 94.27%\n",
            "\n",
            "Year with the Highest Number of Vacant and Occupied Housing Units:\n",
            "Vacant Housing Units: 2008 with 4483 units\n",
            "Occupied Housing Units: 2014 with 46295 units\n",
            "\n",
            "Harmonic Mean of the Total Housing Units: 44398.29\n"
          ]
        }
      ],
      "source": [
        "import pandas as pd\n",
        "from statistics import harmonic_mean\n",
        "\n",
        "# Load the CSV data into a DataFrame\n",
        "file_path = '/content/drive/MyDrive/5731/Assignment1_denton_housing.csv'\n",
        "housing_data = pd.read_csv(file_path)\n",
        "\n",
        "# Calculate the year-to-year difference in Occupied Housing Units\n",
        "occupied_housing = housing_data[housing_data['title_field'] == 'Occupied Housing Units'].sort_values(by='year')\n",
        "occupied_diff = occupied_housing['value'].diff().abs().dropna()  # Calculate the absolute difference and drop NaN\n",
        "year_diffs = occupied_housing['year'].iloc[1:]  # Exclude the first year without a previous year to diff against\n",
        "diffs_sorted = occupied_diff.sort_values().reset_index(drop=True)\n",
        "year_diffs_sorted = year_diffs.loc[occupied_diff.sort_values().index].reset_index(drop=True)\n",
        "\n",
        "# Calculate the percentage of Vacant and Occupied Housing Units for all years\n",
        "percentages = []\n",
        "for year in sorted(housing_data['year'].unique()):\n",
        "    total_units = housing_data.loc[(housing_data['year'] == year) & (housing_data['title_field'] == 'Total Housing Units'), 'value'].values[0]\n",
        "    vacant_units = housing_data.loc[(housing_data['year'] == year) & (housing_data['title_field'] == 'Vacant Housing Units'), 'value'].values[0]\n",
        "    occupied_units = housing_data.loc[(housing_data['year'] == year) & (housing_data['title_field'] == 'Occupied Housing Units'), 'value'].values[0]\n",
        "    percentages.append({\n",
        "        'Year': year,\n",
        "        'Vacant Housing Units': f\"{(vacant_units / total_units) * 100:.2f}%\",\n",
        "        'Occupied Housing Units': f\"{(occupied_units / total_units) * 100:.2f}%\"\n",
        "    })\n",
        "\n",
        "# Identify the years with the highest number of Vacant and Occupied Housing Units\n",
        "max_vacant_year = housing_data.loc[housing_data['title_field'] == 'Vacant Housing Units', ['year', 'value']].sort_values(by='value', ascending=False).iloc[0]\n",
        "max_occupied_year = housing_data.loc[housing_data['title_field'] == 'Occupied Housing Units', ['year', 'value']].sort_values(by='value', ascending=False).iloc[0]\n",
        "\n",
        "# Calculate the Harmonic Mean of the Total Housing Units\n",
        "total_units_values = housing_data.loc[housing_data['title_field'] == 'Total Housing Units', 'value']\n",
        "harmonic_mean_total = harmonic_mean(total_units_values)\n",
        "\n",
        "# Output the results\n",
        "print(\"Year-to-Year Difference in Occupied Housing Units (Sorted):\")\n",
        "for year, diff in zip(year_diffs_sorted, diffs_sorted):\n",
        "    print(f\"{year-1}-{year}: {diff}\")\n",
        "\n",
        "print(\"\\nPercentage of Vacant and Occupied Housing Units:\")\n",
        "for p in percentages:\n",
        "    print(f\"{p['Year']}: Vacant: {p['Vacant Housing Units']}, Occupied: {p['Occupied Housing Units']}\")\n",
        "\n",
        "print(\"\\nYear with the Highest Number of Vacant and Occupied Housing Units:\")\n",
        "print(f\"Vacant Housing Units: {max_vacant_year['year']} with {max_vacant_year['value']} units\")\n",
        "print(f\"Occupied Housing Units: {max_occupied_year['year']} with {max_occupied_year['value']} units\")\n",
        "\n",
        "print(f\"\\nHarmonic Mean of the Total Housing Units: {harmonic_mean_total:.2f}\")\n"
      ]
    },
    {
      "cell_type": "markdown",
      "metadata": {
        "id": "q8BFCvWp32cf"
      },
      "source": [
        "# Mandatory Question\n",
        "\n",
        "Provide your thoughts on the assignment. What did you find challenging, and what aspects did you enjoy? Your opinion on the provided time to complete the assignment. Share any suggestions for improvement. Your feedback will be valuable for enhancing the learning experience."
      ]
    },
    {
      "cell_type": "code",
      "execution_count": null,
      "metadata": {
        "id": "_e557s2w4BpK"
      },
      "outputs": [],
      "source": [
        "# Write your response below\n",
        "\n",
        "The assignments are at good level and covered most of the concepts taught in the class. When we try to solve these assignments, we can enjoy it when we successfully able to solve the problem. Yes, there is enough time to complete the assignments."
      ]
    }
  ],
  "metadata": {
    "colab": {
      "provenance": [],
      "include_colab_link": true
    },
    "kernelspec": {
      "display_name": "Python 3 (ipykernel)",
      "language": "python",
      "name": "python3"
    },
    "language_info": {
      "codemirror_mode": {
        "name": "ipython",
        "version": 3
      },
      "file_extension": ".py",
      "mimetype": "text/x-python",
      "name": "python",
      "nbconvert_exporter": "python",
      "pygments_lexer": "ipython3",
      "version": "3.11.5"
    }
  },
  "nbformat": 4,
  "nbformat_minor": 0
}